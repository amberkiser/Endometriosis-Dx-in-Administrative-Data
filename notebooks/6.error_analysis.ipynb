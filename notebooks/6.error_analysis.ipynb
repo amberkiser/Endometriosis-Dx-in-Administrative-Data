{
 "cells": [
  {
   "cell_type": "code",
   "execution_count": null,
   "id": "73ab0f39",
   "metadata": {},
   "outputs": [],
   "source": [
    "import pandas as pd\n",
    "import numpy as np"
   ]
  },
  {
   "cell_type": "markdown",
   "id": "22cc7fb4",
   "metadata": {},
   "source": [
    "# Error Analysis"
   ]
  },
  {
   "cell_type": "code",
   "execution_count": null,
   "id": "b0937d6b",
   "metadata": {},
   "outputs": [],
   "source": [
    "combined = pd.read_pickle('../data/combined_datasets.pkl')\n",
    "\n",
    "# pos = dx with endo in EHR after study, neg = dx with endo in EHR prior to study\n",
    "combined['months_between'] = ((combined['EHR_Dx_Date'] - combined['ENDO_study_date']) / \n",
    "                              np.timedelta64(1, 'M')).fillna(0).astype(int)"
   ]
  },
  {
   "cell_type": "code",
   "execution_count": null,
   "id": "c4c8392f",
   "metadata": {},
   "outputs": [],
   "source": [
    "def get_diagnosis_dataframe(original, threshold, cohort):\n",
    "    if threshold is None:\n",
    "        keep_dx = original.groupby(['Masked_PersonID','EndoID']).max().reset_index()\n",
    "    else: \n",
    "        keep_dx = original.copy()\n",
    "        \n",
    "        keep_dx.loc[(keep_dx['months_between'] > threshold), 'endo_dx_EHR'] = 0 \n",
    "        keep_dx.loc[(keep_dx['months_between'] > threshold), 'SE_EHR'] = 0 \n",
    "        keep_dx.loc[(keep_dx['months_between'] > threshold), 'OE_EHR'] = 0 \n",
    "        keep_dx.loc[(keep_dx['months_between'] > threshold), 'DE_EHR'] = 0 \n",
    "        keep_dx.loc[(keep_dx['months_between'] > threshold), 'tubal_EHR'] = 0 \n",
    "        keep_dx.loc[(keep_dx['months_between'] > threshold), 'scar_EHR'] = 0 \n",
    "        \n",
    "        keep_dx = keep_dx.groupby(['Masked_PersonID','EndoID']).max().reset_index()\n",
    "    \n",
    "    keep_dx = keep_dx.loc[keep_dx['Cohort_final'] == cohort]\n",
    "    return keep_dx"
   ]
  },
  {
   "cell_type": "code",
   "execution_count": null,
   "id": "9e97b553",
   "metadata": {},
   "outputs": [],
   "source": [
    "diagnosis_data = get_diagnosis_dataframe(combined, 1, 1)"
   ]
  },
  {
   "cell_type": "code",
   "execution_count": null,
   "id": "a4725a52",
   "metadata": {},
   "outputs": [],
   "source": [
    "tp = diagnosis_data.loc[(diagnosis_data['endo_dx_EHR'] == 1) & \n",
    "                        (diagnosis_data['endo_dx_EHR'] == diagnosis_data['endo_dx_ENDO'])]"
   ]
  },
  {
   "cell_type": "code",
   "execution_count": null,
   "id": "4489bb69",
   "metadata": {},
   "outputs": [],
   "source": [
    "tn = diagnosis_data.loc[(diagnosis_data['endo_dx_EHR'] == 0) & \n",
    "                        (diagnosis_data['endo_dx_EHR'] == diagnosis_data['endo_dx_ENDO'])]"
   ]
  },
  {
   "cell_type": "code",
   "execution_count": null,
   "id": "30a73b6b",
   "metadata": {},
   "outputs": [],
   "source": [
    "fn = diagnosis_data.loc[(diagnosis_data['endo_dx_ENDO'] == 1) & (diagnosis_data['endo_dx_EHR'] == 0)]"
   ]
  },
  {
   "cell_type": "code",
   "execution_count": null,
   "id": "82b2bca7",
   "metadata": {},
   "outputs": [],
   "source": [
    "fp = diagnosis_data.loc[(diagnosis_data['endo_dx_ENDO'] == 0) & (diagnosis_data['endo_dx_EHR'] == 1)]"
   ]
  },
  {
   "cell_type": "markdown",
   "id": "df69bf6f",
   "metadata": {},
   "source": [
    "## Get full data for investigation"
   ]
  },
  {
   "cell_type": "markdown",
   "id": "640bdd16",
   "metadata": {},
   "source": [
    "### EHR"
   ]
  },
  {
   "cell_type": "code",
   "execution_count": null,
   "id": "ba34fff5-efee-420c-be9c-46e3545d6b7d",
   "metadata": {},
   "outputs": [],
   "source": [
    "ehr_dx = pd.read_csv('../data/ehr_data.txt', sep='|', header=0)\n",
    "\n",
    "ehr_dx['EHR_Dx_Date'] = ehr_dx['Dx_Date'].astype('datetime64')\n",
    "\n",
    "ehr_dx['SE_EHR'] = np.where((ehr_dx['code'].values == '617') | \n",
    "                            (ehr_dx['code'].values == '617.0') |\n",
    "                            (ehr_dx['code'].values == '617.00') |\n",
    "                            (ehr_dx['code'].values == '617.2') |\n",
    "                            (ehr_dx['code'].values == '617.3') |\n",
    "                            (ehr_dx['code'].values == 'N80.0') |\n",
    "                            (ehr_dx['code'].values == 'N80.2') |\n",
    "                            (ehr_dx['code'].values == 'N80.3'), 1, 0)\n",
    "\n",
    "ehr_dx['OE_EHR'] = np.where((ehr_dx['code'].values == '617.1') | \n",
    "                            (ehr_dx['code'].values == 'N80.1'), 1, 0)\n",
    "\n",
    "ehr_dx['DE_EHR'] = np.where((ehr_dx['code'].values == '617.4') |\n",
    "                            (ehr_dx['code'].values == '617.49') |\n",
    "                            (ehr_dx['code'].values == '617.5') |\n",
    "                            (ehr_dx['code'].values == 'N80.4') |\n",
    "                            (ehr_dx['code'].values == 'N80.5'), 1, 0)\n",
    "\n",
    "ehr_dx['other_EHR'] = np.where((ehr_dx['code'].values == '617.6') |\n",
    "                               (ehr_dx['code'].values == '617.8') |\n",
    "                               (ehr_dx['code'].values == '617.9') |\n",
    "                               (ehr_dx['code'].values == '617.95') |\n",
    "                               (ehr_dx['code'].values == 'N80.6') |\n",
    "                               (ehr_dx['code'].values == 'N80.8') |\n",
    "                               (ehr_dx['code'].values == 'N80.9'), 1, 0)"
   ]
  },
  {
   "cell_type": "code",
   "execution_count": null,
   "id": "967cc101",
   "metadata": {},
   "outputs": [],
   "source": [
    "ehr_dx.loc[ehr_dx['Masked_PersonID'] == 'a123'].sort_values(['Dx_Date', 'code'])"
   ]
  },
  {
   "cell_type": "markdown",
   "id": "bc2ad24e",
   "metadata": {},
   "source": [
    "### ENDO Study"
   ]
  },
  {
   "cell_type": "code",
   "execution_count": null,
   "id": "7edf21df",
   "metadata": {},
   "outputs": [],
   "source": [
    "typology = pd.read_csv('../data/ENDOStudyData/typology.txt', sep='\\t', lineterminator='\\n', encoding='ISO-8859-1')\n",
    "operative = pd.read_csv('../data/ENDOStudyData/operative.txt', sep='\\t', lineterminator='\\n', encoding='ISO-8859-1')"
   ]
  },
  {
   "cell_type": "code",
   "execution_count": null,
   "id": "35d425e5",
   "metadata": {},
   "outputs": [],
   "source": [
    "# Get surgical indication and surgeon\n",
    "operative.loc[operative['StudyID_op'] == 'a123', ['Q4_op', 'Q1_op']]"
   ]
  },
  {
   "cell_type": "code",
   "execution_count": null,
   "id": "dd0d227d",
   "metadata": {},
   "outputs": [],
   "source": [
    "# Check ENDO diagnosis\n",
    "operative.loc[operative['StudyID_op'] == 'a123', ['Q6_op', 'Q7b_op', 'Q5_op']]"
   ]
  },
  {
   "cell_type": "code",
   "execution_count": null,
   "id": "fc320e82",
   "metadata": {},
   "outputs": [],
   "source": [
    "typology.loc[typology['StudyID_typo'] == 'a123']"
   ]
  },
  {
   "cell_type": "code",
   "execution_count": null,
   "id": "3cb0d19b",
   "metadata": {},
   "outputs": [],
   "source": []
  }
 ],
 "metadata": {
  "kernelspec": {
   "display_name": "Python 3 (ipykernel)",
   "language": "python",
   "name": "python3"
  },
  "language_info": {
   "codemirror_mode": {
    "name": "ipython",
    "version": 3
   },
   "file_extension": ".py",
   "mimetype": "text/x-python",
   "name": "python",
   "nbconvert_exporter": "python",
   "pygments_lexer": "ipython3",
   "version": "3.10.13"
  }
 },
 "nbformat": 4,
 "nbformat_minor": 5
}
