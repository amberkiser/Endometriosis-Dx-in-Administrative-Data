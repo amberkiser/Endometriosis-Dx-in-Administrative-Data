{
 "cells": [
  {
   "cell_type": "code",
   "execution_count": null,
   "id": "cd93a559",
   "metadata": {},
   "outputs": [],
   "source": [
    "import pandas as pd\n",
    "import numpy as np\n",
    "\n",
    "from sklearn.metrics import cohen_kappa_score, roc_auc_score, recall_score, confusion_matrix, precision_score, accuracy_score\n",
    "from sklearn.utils import resample\n",
    "import pickle"
   ]
  },
  {
   "cell_type": "markdown",
   "id": "829db4ab",
   "metadata": {},
   "source": [
    "# Compare EHR and ENDO subtype diagnoses - Diversity Assessment\n",
    "\n",
    "* Metrics include: kappa, AUC, percent agreement"
   ]
  },
  {
   "cell_type": "code",
   "execution_count": null,
   "id": "d442c326",
   "metadata": {},
   "outputs": [],
   "source": [
    "combined = pd.read_pickle('../data/combined_datasets.pkl')\n",
    "\n",
    "# pos = dx with endo in EHR after study, neg = dx with endo in EHR prior to study\n",
    "combined['months_between'] = ((combined['EHR_Dx_Date'] - combined['ENDO_study_date']) / \n",
    "                              np.timedelta64(1, 'M')).fillna(0).astype(int)"
   ]
  },
  {
   "cell_type": "code",
   "execution_count": null,
   "id": "9413998b",
   "metadata": {},
   "outputs": [],
   "source": [
    "with open('diversity_ids.pkl', 'rb') as f:\n",
    "    diversity_ids = pickle.load(f)"
   ]
  },
  {
   "cell_type": "code",
   "execution_count": null,
   "id": "a069c9e5",
   "metadata": {},
   "outputs": [],
   "source": [
    "white = combined.loc[combined['StudyID_final'].isin(diversity_ids['white'])].reset_index(drop=True)\n",
    "poc = combined.loc[combined['StudyID_final'].isin(diversity_ids['poc'])].reset_index(drop=True)\n",
    "\n",
    "hispanic = combined.loc[combined['StudyID_final'].isin(diversity_ids['hispanic'])].reset_index(drop=True)\n",
    "nonhispanic = combined.loc[combined['StudyID_final'].isin(diversity_ids['nonhispanic'])].reset_index(drop=True)"
   ]
  },
  {
   "cell_type": "code",
   "execution_count": null,
   "id": "d17e05d3",
   "metadata": {},
   "outputs": [],
   "source": [
    "def get_diagnosis_dataframe(original, threshold, cohort):\n",
    "    if threshold is None:\n",
    "        keep_dx = original.groupby(['Masked_PersonID','EndoID']).max().reset_index()\n",
    "    else: \n",
    "        keep_dx = original.copy()\n",
    "\n",
    "        keep_dx.loc[(keep_dx['months_between'] > threshold), 'endo_dx_EHR'] = 0 \n",
    "        keep_dx.loc[(keep_dx['months_between'] > threshold), 'SE_EHR'] = 0 \n",
    "        keep_dx.loc[(keep_dx['months_between'] > threshold), 'OE_EHR'] = 0 \n",
    "        keep_dx.loc[(keep_dx['months_between'] > threshold), 'DE_EHR'] = 0\n",
    "        keep_dx.loc[(keep_dx['months_between'] > threshold), 'other_EHR'] = 0\n",
    "\n",
    "        keep_dx = keep_dx.groupby(['Masked_PersonID','EndoID']).max().reset_index()\n",
    "    keep_dx = keep_dx.loc[keep_dx['Cohort_final'] == cohort]\n",
    "    return keep_dx\n",
    "\n",
    "def bootstrap_performance_metrics(prediction_data, compare_EHR_col, compare_ENDO_col):\n",
    "    # Bootstrap the data\n",
    "    boot_data = resample(prediction_data, stratify=prediction_data[compare_ENDO_col])\n",
    "\n",
    "    # Performance metrics\n",
    "    acc = accuracy_score(boot_data[compare_ENDO_col], boot_data[compare_EHR_col])\n",
    "    auc = roc_auc_score(boot_data[compare_ENDO_col], boot_data[compare_EHR_col])\n",
    "    kappa = cohen_kappa_score(boot_data[compare_ENDO_col], boot_data[compare_EHR_col])\n",
    "    \n",
    "    # Collect metrics in dataframe\n",
    "    bootstrap_df = pd.DataFrame({'AGREEMENT': [acc],\n",
    "                                 'AUC': [auc],\n",
    "                                 'KAPPA': [kappa]})\n",
    "    return bootstrap_df\n",
    "\n",
    "def summarize_bootstrap_results(bootstrap_results):    \n",
    "    alpha = 100-95\n",
    "    metrics = []\n",
    "    medians = []\n",
    "    ci_low = []\n",
    "    ci_high = []\n",
    "    \n",
    "    for col in bootstrap_results.columns:\n",
    "        metrics.append(col)\n",
    "        medians.append(np.percentile(bootstrap_results[col], 50))\n",
    "        ci_low.append(np.percentile(bootstrap_results[col], alpha/2))\n",
    "        ci_high.append(np.percentile(bootstrap_results[col], 100-alpha/2))\n",
    "\n",
    "    metrics = pd.DataFrame({'METRIC': metrics, 'MEDIAN': medians, 'CI_LOW': ci_low, 'CI_HIGH': ci_high})\n",
    "    return metrics"
   ]
  },
  {
   "cell_type": "code",
   "execution_count": null,
   "id": "08be321b",
   "metadata": {},
   "outputs": [],
   "source": [
    "n = 1000\n",
    "threshold = 1"
   ]
  },
  {
   "cell_type": "markdown",
   "id": "0f833381",
   "metadata": {},
   "source": [
    "## OE"
   ]
  },
  {
   "cell_type": "code",
   "execution_count": null,
   "id": "1038e971",
   "metadata": {},
   "outputs": [],
   "source": [
    "# EHR dx more than 1 month after study date are voided\n",
    "keep_dx = get_diagnosis_dataframe(white, threshold, 1)\n",
    "white_bootstrap_results = pd.DataFrame()\n",
    "for i in range(n):\n",
    "    white_bootstrap_results = pd.concat([white_bootstrap_results, \n",
    "                                         bootstrap_performance_metrics(keep_dx, 'OE_EHR', 'OE_ENDO')])\n",
    "white_metrics = summarize_bootstrap_results(white_bootstrap_results)"
   ]
  },
  {
   "cell_type": "code",
   "execution_count": null,
   "id": "ee8d371e",
   "metadata": {},
   "outputs": [],
   "source": [
    "# EHR dx more than 1 month after study date are voided\n",
    "keep_dx = get_diagnosis_dataframe(poc, threshold, 1)\n",
    "poc_bootstrap_results = pd.DataFrame()\n",
    "for i in range(n):\n",
    "    poc_bootstrap_results = pd.concat([poc_bootstrap_results, \n",
    "                                       bootstrap_performance_metrics(keep_dx, 'OE_EHR', 'OE_ENDO')])\n",
    "poc_metrics = summarize_bootstrap_results(poc_bootstrap_results)"
   ]
  },
  {
   "cell_type": "code",
   "execution_count": null,
   "id": "6987873a",
   "metadata": {},
   "outputs": [],
   "source": [
    "# EHR dx more than 1 month after study date are voided\n",
    "keep_dx = get_diagnosis_dataframe(hispanic, threshold, 1)\n",
    "hispanic_bootstrap_results = pd.DataFrame()\n",
    "for i in range(n):\n",
    "    hispanic_bootstrap_results = pd.concat([hispanic_bootstrap_results, \n",
    "                                            bootstrap_performance_metrics(keep_dx, 'OE_EHR', 'OE_ENDO')])\n",
    "hispanic_metrics = summarize_bootstrap_results(hispanic_bootstrap_results)"
   ]
  },
  {
   "cell_type": "code",
   "execution_count": null,
   "id": "c7bb6b0d",
   "metadata": {},
   "outputs": [],
   "source": [
    "# EHR dx more than 1 month after study date are voided\n",
    "keep_dx = get_diagnosis_dataframe(nonhispanic, threshold, 1)\n",
    "nonhispanic_bootstrap_results = pd.DataFrame()\n",
    "for i in range(n):\n",
    "    nonhispanic_bootstrap_results = pd.concat([nonhispanic_bootstrap_results, \n",
    "                                               bootstrap_performance_metrics(keep_dx, 'OE_EHR', 'OE_ENDO')])\n",
    "nonhispanic_metrics = summarize_bootstrap_results(nonhispanic_bootstrap_results)"
   ]
  },
  {
   "cell_type": "code",
   "execution_count": null,
   "id": "5bbbeeb1",
   "metadata": {},
   "outputs": [],
   "source": [
    "white_metrics.to_csv('../results/OE/white_metrics.csv', index=False)\n",
    "poc_metrics.to_csv('../results/OE/poc_metrics.csv', index=False)\n",
    "hispanic_metrics.to_csv('../results/OE/hispanic_metrics.csv', index=False)\n",
    "nonhispanic_metrics.to_csv('../results/OE/nonhispanic_metrics.csv', index=False)"
   ]
  },
  {
   "cell_type": "markdown",
   "id": "4661b051",
   "metadata": {},
   "source": [
    "## SE"
   ]
  },
  {
   "cell_type": "code",
   "execution_count": null,
   "id": "ce9770cd",
   "metadata": {},
   "outputs": [],
   "source": [
    "# EHR dx more than 1 month after study date are voided\n",
    "keep_dx = get_diagnosis_dataframe(white, threshold, 1)\n",
    "white_bootstrap_results = pd.DataFrame()\n",
    "for i in range(n):\n",
    "    white_bootstrap_results = pd.concat([white_bootstrap_results, \n",
    "                                         bootstrap_performance_metrics(keep_dx, 'SE_EHR', 'SE_ENDO')])\n",
    "white_metrics = summarize_bootstrap_results(white_bootstrap_results)"
   ]
  },
  {
   "cell_type": "code",
   "execution_count": null,
   "id": "61ccf237",
   "metadata": {},
   "outputs": [],
   "source": [
    "# EHR dx more than 1 month after study date are voided\n",
    "keep_dx = get_diagnosis_dataframe(poc, threshold, 1)\n",
    "poc_bootstrap_results = pd.DataFrame()\n",
    "for i in range(n):\n",
    "    poc_bootstrap_results = pd.concat([poc_bootstrap_results, \n",
    "                                       bootstrap_performance_metrics(keep_dx, 'SE_EHR', 'SE_ENDO')])\n",
    "poc_metrics = summarize_bootstrap_results(poc_bootstrap_results)"
   ]
  },
  {
   "cell_type": "code",
   "execution_count": null,
   "id": "6d59feeb",
   "metadata": {},
   "outputs": [],
   "source": [
    "# EHR dx more than 1 month after study date are voided\n",
    "keep_dx = get_diagnosis_dataframe(hispanic, threshold, 1)\n",
    "hispanic_bootstrap_results = pd.DataFrame()\n",
    "for i in range(n):\n",
    "    hispanic_bootstrap_results = pd.concat([hispanic_bootstrap_results, \n",
    "                                            bootstrap_performance_metrics(keep_dx, 'SE_EHR', 'SE_ENDO')])\n",
    "hispanic_metrics = summarize_bootstrap_results(hispanic_bootstrap_results)"
   ]
  },
  {
   "cell_type": "code",
   "execution_count": null,
   "id": "a2aebf17",
   "metadata": {},
   "outputs": [],
   "source": [
    "# EHR dx more than 1 month after study date are voided\n",
    "keep_dx = get_diagnosis_dataframe(nonhispanic, threshold, 1)\n",
    "nonhispanic_bootstrap_results = pd.DataFrame()\n",
    "for i in range(n):\n",
    "    nonhispanic_bootstrap_results = pd.concat([nonhispanic_bootstrap_results, \n",
    "                                               bootstrap_performance_metrics(keep_dx, 'SE_EHR', 'SE_ENDO')])\n",
    "nonhispanic_metrics = summarize_bootstrap_results(nonhispanic_bootstrap_results)"
   ]
  },
  {
   "cell_type": "code",
   "execution_count": null,
   "id": "64bc074d",
   "metadata": {},
   "outputs": [],
   "source": [
    "white_metrics.to_csv('../results/SE/white_metrics.csv', index=False)\n",
    "poc_metrics.to_csv('../results/SE/poc_metrics.csv', index=False)\n",
    "hispanic_metrics.to_csv('../results/SE/hispanic_metrics.csv', index=False)\n",
    "nonhispanic_metrics.to_csv('../results/SE/nonhispanic_metrics.csv', index=False)"
   ]
  },
  {
   "cell_type": "markdown",
   "id": "b66eeb65",
   "metadata": {},
   "source": [
    "## DE"
   ]
  },
  {
   "cell_type": "code",
   "execution_count": null,
   "id": "e6c0029e",
   "metadata": {},
   "outputs": [],
   "source": [
    "# EHR dx more than 1 month after study date are voided\n",
    "keep_dx = get_diagnosis_dataframe(white, threshold, 1)\n",
    "white_bootstrap_results = pd.DataFrame()\n",
    "for i in range(n):\n",
    "    white_bootstrap_results = pd.concat([white_bootstrap_results, \n",
    "                                         bootstrap_performance_metrics(keep_dx, 'DE_EHR', 'DE_ENDO')])\n",
    "white_metrics = summarize_bootstrap_results(white_bootstrap_results)\n"
   ]
  },
  {
   "cell_type": "code",
   "execution_count": null,
   "id": "eeffc21f",
   "metadata": {},
   "outputs": [],
   "source": [
    "# EHR dx more than 1 month after study date are voided\n",
    "keep_dx = get_diagnosis_dataframe(poc, threshold, 1)\n",
    "poc_bootstrap_results = pd.DataFrame()\n",
    "for i in range(n):\n",
    "    poc_bootstrap_results = pd.concat([poc_bootstrap_results, \n",
    "                                       bootstrap_performance_metrics(keep_dx, 'DE_EHR', 'DE_ENDO')])\n",
    "poc_metrics = summarize_bootstrap_results(poc_bootstrap_results)"
   ]
  },
  {
   "cell_type": "code",
   "execution_count": null,
   "id": "eb494972-7926-4556-b4fc-3c5db6c1141a",
   "metadata": {},
   "outputs": [],
   "source": [
    "# EHR dx more than 1 month after study date are voided\n",
    "keep_dx = get_diagnosis_dataframe(hispanic, threshold, 1)\n",
    "hispanic_bootstrap_results = pd.DataFrame()\n",
    "for i in range(n):\n",
    "    hispanic_bootstrap_results = pd.concat([hispanic_bootstrap_results, \n",
    "                                            bootstrap_performance_metrics(keep_dx, 'DE_EHR', 'DE_ENDO')])\n",
    "hispanic_metrics = summarize_bootstrap_results(hispanic_bootstrap_results)"
   ]
  },
  {
   "cell_type": "code",
   "execution_count": null,
   "id": "c31101d8",
   "metadata": {},
   "outputs": [],
   "source": [
    "# EHR dx more than 1 month after study date are voided\n",
    "keep_dx = get_diagnosis_dataframe(nonhispanic, threshold, 1)\n",
    "nonhispanic_bootstrap_results = pd.DataFrame()\n",
    "for i in range(n):\n",
    "    nonhispanic_bootstrap_results = pd.concat([nonhispanic_bootstrap_results, \n",
    "                                               bootstrap_performance_metrics(keep_dx, 'DE_EHR', 'DE_ENDO')])\n",
    "nonhispanic_metrics = summarize_bootstrap_results(nonhispanic_bootstrap_results)"
   ]
  },
  {
   "cell_type": "code",
   "execution_count": null,
   "id": "3f303bf2",
   "metadata": {},
   "outputs": [],
   "source": [
    "white_metrics.to_csv('../results/DE/white_metrics.csv', index=False)\n",
    "poc_metrics.to_csv('../results/DE/poc_metrics.csv', index=False)\n",
    "hispanic_metrics.to_csv('../results/DE/hispanic_metrics.csv', index=False)\n",
    "nonhispanic_metrics.to_csv('../results/DE/nonhispanic_metrics.csv', index=False)"
   ]
  },
  {
   "cell_type": "code",
   "execution_count": null,
   "id": "f049d2a1",
   "metadata": {},
   "outputs": [],
   "source": []
  }
 ],
 "metadata": {
  "kernelspec": {
   "display_name": "Python 3 (ipykernel)",
   "language": "python",
   "name": "python3"
  },
  "language_info": {
   "codemirror_mode": {
    "name": "ipython",
    "version": 3
   },
   "file_extension": ".py",
   "mimetype": "text/x-python",
   "name": "python",
   "nbconvert_exporter": "python",
   "pygments_lexer": "ipython3",
   "version": "3.10.13"
  }
 },
 "nbformat": 4,
 "nbformat_minor": 5
}
