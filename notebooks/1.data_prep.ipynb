{
 "cells": [
  {
   "cell_type": "code",
   "execution_count": null,
   "id": "79f72e99",
   "metadata": {},
   "outputs": [],
   "source": [
    "import pandas as pd\n",
    "import numpy as np"
   ]
  },
  {
   "cell_type": "markdown",
   "id": "ed662d8d",
   "metadata": {},
   "source": [
    "# Data Prep"
   ]
  },
  {
   "cell_type": "markdown",
   "id": "6b0c5d9f",
   "metadata": {},
   "source": [
    "## Get endometriosis diagnosis information from EHR data"
   ]
  },
  {
   "cell_type": "code",
   "execution_count": null,
   "id": "ec5efa13",
   "metadata": {},
   "outputs": [],
   "source": [
    "ehr_dx = pd.read_csv('../data/ehr_data.txt', sep='|', header=0)\n",
    "\n",
    "ehr_dx['EHR_Dx_Date'] = ehr_dx['Dx_Date'].astype('datetime64')\n",
    "\n",
    "ehr_dx['SE_EHR'] = np.where((ehr_dx['code'].values == '617') | \n",
    "                            (ehr_dx['code'].values == '617.0') |\n",
    "                            (ehr_dx['code'].values == '617.00') |\n",
    "                            (ehr_dx['code'].values == '617.2') |\n",
    "                            (ehr_dx['code'].values == '617.3') |\n",
    "                            (ehr_dx['code'].values == 'N80.0') |\n",
    "                            (ehr_dx['code'].values == 'N80.2') |\n",
    "                            (ehr_dx['code'].values == 'N80.3'), 1, 0)\n",
    "\n",
    "ehr_dx['OE_EHR'] = np.where((ehr_dx['code'].values == '617.1') | \n",
    "                            (ehr_dx['code'].values == 'N80.1'), 1, 0)\n",
    "\n",
    "ehr_dx['DE_EHR'] = np.where((ehr_dx['code'].values == '617.4') |\n",
    "                            (ehr_dx['code'].values == '617.49') |\n",
    "                            (ehr_dx['code'].values == '617.5') |\n",
    "                            (ehr_dx['code'].values == 'N80.4') |\n",
    "                            (ehr_dx['code'].values == 'N80.5'), 1, 0)\n",
    "\n",
    "ehr_dx['other_EHR'] = np.where((ehr_dx['code'].values == '617.6') |\n",
    "                               (ehr_dx['code'].values == '617.8') |\n",
    "                               (ehr_dx['code'].values == '617.9') |\n",
    "                               (ehr_dx['code'].values == '617.95') |\n",
    "                               (ehr_dx['code'].values == 'N80.6') |\n",
    "                               (ehr_dx['code'].values == 'N80.8') |\n",
    "                               (ehr_dx['code'].values == 'N80.9'), 1, 0)"
   ]
  },
  {
   "cell_type": "markdown",
   "id": "3c5bcace",
   "metadata": {},
   "source": [
    "## Get endometriosis diagnosis information from ENDO study"
   ]
  },
  {
   "cell_type": "code",
   "execution_count": null,
   "id": "04cb0b58",
   "metadata": {},
   "outputs": [],
   "source": [
    "study_data = = pd.read_csv('../data/study_data.txt', sep='\\t', lineterminator='\\n', encoding='ISO-8859-1')"
   ]
  },
  {
   "cell_type": "markdown",
   "id": "68884843",
   "metadata": {},
   "source": [
    "## Combine data sources"
   ]
  },
  {
   "cell_type": "code",
   "execution_count": null,
   "id": "916f987e",
   "metadata": {},
   "outputs": [],
   "source": [
    "combined = ehr_data.merge(study_data, how='inner', left_on='EndoID', right_on='StudyID_final')\n",
    "combined = combined.loc[~combined['ENDO_study_date'].isna()]"
   ]
  },
  {
   "cell_type": "code",
   "execution_count": null,
   "id": "22e0c3c5",
   "metadata": {},
   "outputs": [],
   "source": [
    "combined.to_csv('../data/combined_data.csv')"
   ]
  },
  {
   "cell_type": "code",
   "execution_count": null,
   "id": "bc91fcc2",
   "metadata": {},
   "outputs": [],
   "source": []
  }
 ],
 "metadata": {
  "kernelspec": {
   "display_name": "Python 3 (ipykernel)",
   "language": "python",
   "name": "python3"
  },
  "language_info": {
   "codemirror_mode": {
    "name": "ipython",
    "version": 3
   },
   "file_extension": ".py",
   "mimetype": "text/x-python",
   "name": "python",
   "nbconvert_exporter": "python",
   "pygments_lexer": "ipython3",
   "version": "3.10.13"
  }
 },
 "nbformat": 4,
 "nbformat_minor": 5
}
